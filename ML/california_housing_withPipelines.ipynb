{
  "nbformat": 4,
  "nbformat_minor": 0,
  "metadata": {
    "colab": {
      "name": "Hoework1_Berat_Bozkurt_withPipelines.ipynb",
      "provenance": []
    },
    "kernelspec": {
      "display_name": "Python 3",
      "name": "python3"
    },
    "language_info": {
      "name": "python"
    }
  },
  "cells": [
    {
      "cell_type": "code",
      "metadata": {
        "id": "gpjl2llO-M_q"
      },
      "source": [
        "import os\n",
        "import tarfile\n",
        "from six.moves import urllib\n",
        "import pandas as pd\n",
        "\n",
        "DOWNLOAD_ROOT = \"https://raw.githubusercontent.com/ageron/handson-ml2/master/\"\n",
        "HOUSING_PATH = os.path.join(\"datasets\", \"housing\")\n",
        "HOUSING_URL = DOWNLOAD_ROOT + \"datasets/housing/housing.tgz\"\n",
        "\n",
        "def fetch_housing_data(housing_url=HOUSING_URL, housing_path=HOUSING_PATH):\n",
        "  if not os.path.isdir(housing_path):\n",
        "     os.makedirs(housing_path)\n",
        "  tgz_path = os.path.join(housing_path, \"housing.tgz\")\n",
        "  urllib.request.urlretrieve(housing_url, tgz_path)\n",
        "  housing_tgz = tarfile.open(tgz_path)\n",
        "  housing_tgz.extractall(path=housing_path)\n",
        "  housing_tgz.close()\n",
        "\n",
        "def load_housing_data(housing_path=HOUSING_PATH):\n",
        "  csv_path = os.path.join(housing_path, \"housing.csv\")\n",
        "  return pd.read_csv(csv_path)\n",
        "\n",
        "fetch_housing_data()\n",
        "housing = load_housing_data()\n"
      ],
      "execution_count": 12,
      "outputs": []
    },
    {
      "cell_type": "code",
      "metadata": {
        "id": "LKSTWvbW-Q9b"
      },
      "source": [
        "import numpy as np\n",
        "from sklearn.model_selection import StratifiedShuffleSplit\n",
        "\n",
        "housing[\"income_cat\"] = pd.cut(housing[\"median_income\"],\n",
        "                               bins=[0., 1.5, 3.0, 4.5, 6., np.inf],\n",
        "                               labels=[1, 2, 3, 4, 5])\n",
        "\n",
        "\n",
        "split = StratifiedShuffleSplit(n_splits=1, test_size=0.2, random_state=42)\n",
        "\n",
        "for train_index, test_index in split.split(housing, housing[\"income_cat\"]):\n",
        "  strat_train_set = housing.loc[train_index]\n",
        "  strat_test_set = housing.loc[test_index]\n",
        "\n",
        "for set_ in (strat_train_set, strat_test_set):\n",
        "  set_.drop(\"income_cat\", axis=1, inplace=True)\n",
        "  "
      ],
      "execution_count": 13,
      "outputs": []
    },
    {
      "cell_type": "code",
      "metadata": {
        "id": "851fBoBB-Wmu"
      },
      "source": [
        "def seperating_labels(dataFrame):\n",
        "  input_features = dataFrame.drop(\"median_house_value\", axis=1)\n",
        "  labels = dataFrame[\"median_house_value\"].copy()\n",
        "  return input_features, labels\n",
        "\n",
        "train_input_features, train_labels = seperating_labels(strat_train_set)\n",
        "test_input_features, test_labels = seperating_labels(strat_test_set)\n",
        "\n",
        "\n",
        "train_num_features =  train_input_features.drop(\"ocean_proximity\", axis=1)\n",
        "test_num_features =  test_input_features.drop(\"ocean_proximity\", axis=1)\n"
      ],
      "execution_count": 14,
      "outputs": []
    },
    {
      "cell_type": "code",
      "metadata": {
        "id": "SsziIzh6-dQc"
      },
      "source": [
        "rooms_index, bedrooms_index, population_index, households_index = 3, 4, 5, 6\n",
        "\n",
        "class CombinedAttributesAdder():\n",
        "\n",
        "  def fit(self, X, y=None):\n",
        "    return self # nothing else to do\n",
        "  \n",
        "  def transform(self, X, y=None):\n",
        "    rooms_per_household = X[:, rooms_index] / X[:, households_index]\n",
        "    population_per_household = X[:, population_index] / X[:, households_index]\n",
        "    bedrooms_per_room = X[:, bedrooms_index] / X[:, rooms_index]\n",
        "    return np.c_[X, rooms_per_household, population_per_household, bedrooms_per_room]"
      ],
      "execution_count": 15,
      "outputs": []
    },
    {
      "cell_type": "code",
      "metadata": {
        "id": "ecHSjy5O-gG8",
        "colab": {
          "base_uri": "https://localhost:8080/"
        },
        "outputId": "6d46f96f-6cd1-4211-fe73-f7f049326b9d"
      },
      "source": [
        "from sklearn.pipeline import Pipeline\n",
        "from sklearn.preprocessing import StandardScaler\n",
        "from sklearn.compose import ColumnTransformer\n",
        "from sklearn.preprocessing import OneHotEncoder\n",
        "from sklearn.impute import SimpleImputer\n",
        "\n",
        "num_pipeline = Pipeline([\n",
        "             ('imputer', SimpleImputer(strategy=\"median\")),\n",
        "            #('attribs_adder', CombinedAttributesAdder()), #as we see from 1 question, it is better to not add the 3 features.\n",
        "             ('std_scaler', StandardScaler()),\n",
        "             ])\n",
        "\n",
        "#housing_num_tr = num_pipeline.fit_transform(train_num_features)\n",
        "\n",
        "num_attribs = list(train_num_features)\n",
        "cat_attribs = [\"ocean_proximity\"]\n",
        "\n",
        "full_pipeline = ColumnTransformer([\n",
        "             (\"num\", num_pipeline, num_attribs),\n",
        "             (\"cat\", OneHotEncoder(), cat_attribs),],\n",
        "             )\n",
        "\n",
        "housing_prepared = full_pipeline.fit_transform(train_input_features)\n",
        "housing_prepared_test = full_pipeline.fit_transform(test_input_features)\n",
        "housing_prepared_test\n"
      ],
      "execution_count": 27,
      "outputs": [
        {
          "output_type": "execute_result",
          "data": {
            "text/plain": [
              "array([[ 0.57471497, -0.69620912,  0.03285951, ...,  0.        ,\n",
              "         0.        ,  0.        ],\n",
              "       [ 0.83839441, -0.86074221,  0.82471029, ...,  0.        ,\n",
              "         0.        ,  0.        ],\n",
              "       [ 0.24635944, -0.65390061, -0.12551065, ...,  0.        ,\n",
              "         0.        ,  0.        ],\n",
              "       ...,\n",
              "       [ 0.52496413, -0.66800344,  0.19122966, ...,  0.        ,\n",
              "         0.        ,  0.        ],\n",
              "       [ 1.10704893, -0.75732141, -0.12551065, ...,  0.        ,\n",
              "         0.        ,  0.        ],\n",
              "       [ 0.31601062,  0.55894333, -0.75899128, ...,  0.        ,\n",
              "         0.        ,  0.        ]])"
            ]
          },
          "metadata": {
            "tags": []
          },
          "execution_count": 27
        }
      ]
    },
    {
      "cell_type": "code",
      "metadata": {
        "colab": {
          "base_uri": "https://localhost:8080/"
        },
        "id": "adnKuA4f_6uN",
        "outputId": "72be0c62-3ae0-42d3-dec8-8adcf939a3c8"
      },
      "source": [
        "from sklearn.ensemble import RandomForestRegressor \n",
        "from sklearn.model_selection import cross_val_score\n",
        "from sklearn.metrics import mean_squared_error\n",
        "\n",
        "def display_scores(scores):\n",
        "    print(\"Scores:\", scores)\n",
        "    print(\"Mean:\", scores.mean())\n",
        "    print(\"Standard deviation:\", scores.std())\n",
        "\n",
        "forest_reg = RandomForestRegressor()\n",
        "forest_reg.fit(housing_prepared, train_labels)\n",
        "housing_predictions = forest_reg.predict(housing_prepared)\n",
        "forest_rmse = mean_squared_error(train_labels, housing_predictions, squared=False)\n",
        "print('Train Set forest_rmse :', forest_rmse)\n",
        "scores = cross_val_score(forest_reg, housing_prepared, train_labels,scoring=\"neg_mean_squared_error\", cv=10)\n",
        "forest_rmse_scores = np.sqrt(-scores)\n",
        "display_scores(forest_rmse_scores)\n",
        "\n",
        "print('***********************')\n",
        "\n",
        "forest_reg.fit(housing_prepared_test, test_labels)\n",
        "housing_predictions = forest_reg.predict(housing_prepared_test)\n",
        "forest_rmse = mean_squared_error(test_labels, housing_predictions, squared=False)\n",
        "print('Test Set forest_rmse :', forest_rmse)\n",
        "scores = cross_val_score(forest_reg, housing_prepared_test, test_labels ,scoring=\"neg_mean_squared_error\", cv=10)\n",
        "forest_rmse_scores = np.sqrt(-scores)\n",
        "display_scores(forest_rmse_scores)\n",
        "\n"
      ],
      "execution_count": 20,
      "outputs": [
        {
          "output_type": "stream",
          "text": [
            "Train Set forest_rmse : 18285.423904002368\n",
            "Scores: [47908.45458623 46107.53761248 48922.83447929 50312.91982653\n",
            " 49281.16898481 53404.05860454 48618.1518469  50404.71830684\n",
            " 51597.78914316 49731.98862513]\n",
            "Mean: 49628.96220159079\n",
            "Standard deviation: 1902.8855466142086\n",
            "***********************\n",
            "Test Set forest_rmse : 20195.189515856553\n",
            "Scores: [53987.34427416 57681.6824339  55480.12499877 52783.5912555\n",
            " 54381.83146151 51830.87924683 55468.24261498 49931.9534748\n",
            " 54287.78671753 49763.4028622 ]\n",
            "Mean: 53559.68393401742\n",
            "Standard deviation: 2384.822406275257\n"
          ],
          "name": "stdout"
        }
      ]
    }
  ]
}
