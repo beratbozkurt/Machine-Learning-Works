{
  "nbformat": 4,
  "nbformat_minor": 0,
  "metadata": {
    "colab": {
      "name": "Homework1_Berat_Bozkurt.ipynb",
      "provenance": [],
      "collapsed_sections": []
    },
    "kernelspec": {
      "name": "python3",
      "display_name": "Python 3"
    },
    "language_info": {
      "name": "python"
    }
  },
  "cells": [
    {
      "cell_type": "code",
      "metadata": {
        "id": "adnKuA4f_6uN"
      },
      "source": [
        "import os\n",
        "import tarfile\n",
        "from six.moves import urllib\n",
        "import pandas as pd\n",
        "\n",
        "DOWNLOAD_ROOT = \"https://raw.githubusercontent.com/ageron/handson-ml2/master/\"\n",
        "HOUSING_PATH = os.path.join(\"datasets\", \"housing\")\n",
        "HOUSING_URL = DOWNLOAD_ROOT + \"datasets/housing/housing.tgz\"\n",
        "\n",
        "def fetch_housing_data(housing_url=HOUSING_URL, housing_path=HOUSING_PATH):\n",
        "  if not os.path.isdir(housing_path):\n",
        "     os.makedirs(housing_path)\n",
        "  tgz_path = os.path.join(housing_path, \"housing.tgz\")\n",
        "  urllib.request.urlretrieve(housing_url, tgz_path)\n",
        "  housing_tgz = tarfile.open(tgz_path)\n",
        "  housing_tgz.extractall(path=housing_path)\n",
        "  housing_tgz.close()\n",
        "\n",
        "def load_housing_data(housing_path=HOUSING_PATH):\n",
        "  csv_path = os.path.join(housing_path, \"housing.csv\")\n",
        "  return pd.read_csv(csv_path)\n",
        "\n",
        "fetch_housing_data()\n",
        "housing = load_housing_data()\n"
      ],
      "execution_count": null,
      "outputs": []
    },
    {
      "cell_type": "code",
      "metadata": {
        "id": "1qfoP_DtINs9"
      },
      "source": [
        "import numpy as np\n",
        "from sklearn.model_selection import StratifiedShuffleSplit\n",
        "\n",
        "housing[\"income_cat\"] = pd.cut(housing[\"median_income\"],\n",
        "                               bins=[0., 1.5, 3.0, 4.5, 6., np.inf],\n",
        "                               labels=[1, 2, 3, 4, 5])\n",
        "\n",
        "\n",
        "split = StratifiedShuffleSplit(n_splits=1, test_size=0.2, random_state=42)\n",
        "for train_index, test_index in split.split(housing, housing[\"income_cat\"]):\n",
        "  strat_train_set = housing.loc[train_index]\n",
        "  strat_test_set = housing.loc[test_index]\n",
        "\n",
        "for set_ in (strat_train_set, strat_test_set):\n",
        "  set_.drop(\"income_cat\", axis=1, inplace=True)\n"
      ],
      "execution_count": null,
      "outputs": []
    },
    {
      "cell_type": "code",
      "metadata": {
        "id": "ku4Bzj5mKLVn"
      },
      "source": [
        "def adding_attributes(dataFrame):\n",
        "  dataFrame[\"rooms_per_household\"] = dataFrame[\"total_rooms\"]/dataFrame[\"households\"]\n",
        "  dataFrame[\"bedrooms_per_room\"] = dataFrame[\"total_bedrooms\"]/dataFrame[\"total_rooms\"]\n",
        "  dataFrame[\"population_per_household\"]=dataFrame[\"population\"]/dataFrame[\"households\"]\n",
        "    \n",
        "adding_attributes(strat_train_set)\n",
        "adding_attributes(strat_test_set)\n",
        "\n"
      ],
      "execution_count": null,
      "outputs": []
    },
    {
      "cell_type": "code",
      "metadata": {
        "id": "OPFU3FFeNCCL"
      },
      "source": [
        "def seperating_labels(dataFrame):\n",
        "  input_features = dataFrame.drop(\"median_house_value\", axis=1)\n",
        "  labels = dataFrame[\"median_house_value\"].copy()\n",
        "  return input_features, labels\n",
        "\n",
        "train_input_features, train_labels =seperating_labels(strat_train_set)\n",
        "test_input_features, test_labels = seperating_labels(strat_test_set)\n",
        "\n"
      ],
      "execution_count": null,
      "outputs": []
    },
    {
      "cell_type": "code",
      "metadata": {
        "id": "OqnQpU35Rsip"
      },
      "source": [
        "from sklearn.impute import SimpleImputer\n",
        "\n",
        "imputer = SimpleImputer(strategy=\"median\")\n",
        "\n",
        "train_num_features =  train_input_features.drop(\"ocean_proximity\", axis=1)\n",
        "test_num_features =  test_input_features.drop(\"ocean_proximity\", axis=1)\n",
        "\n",
        "imputer.fit(train_num_features)\n",
        "\n",
        "train_nparray = imputer.transform(train_num_features)\n",
        "test_nparray = imputer.transform(test_num_features)\n",
        "\n",
        "train_num = pd.DataFrame(train_nparray, columns=train_num_features.columns)\n",
        "test_num =  pd.DataFrame(test_nparray, columns=test_num_features.columns)\n",
        "\n",
        "train_num.isnull().sum()\n"
      ],
      "execution_count": null,
      "outputs": []
    },
    {
      "cell_type": "code",
      "metadata": {
        "id": "DdzAgCupXSv2"
      },
      "source": [
        "test_num.isnull().sum()"
      ],
      "execution_count": null,
      "outputs": []
    },
    {
      "cell_type": "code",
      "metadata": {
        "id": "ptrHcjbUYjPF"
      },
      "source": [
        "from sklearn.preprocessing import OneHotEncoder\n",
        "\n",
        "train_cat = train_input_features[[\"ocean_proximity\"]]\n",
        "test_cat = test_input_features[[\"ocean_proximity\"]]\n",
        "\n",
        "cat_encoder = OneHotEncoder()\n",
        "\n",
        "train_cat_1hot = cat_encoder.fit_transform(train_cat)\n",
        "test_cat_1hot = cat_encoder.transform(test_cat)\n",
        "\n",
        "train_cat_1hot = pd.DataFrame.sparse.from_spmatrix(train_cat_1hot)\n",
        "test_cat_1hot = pd.DataFrame.sparse.from_spmatrix(test_cat_1hot)"
      ],
      "execution_count": null,
      "outputs": []
    },
    {
      "cell_type": "code",
      "metadata": {
        "id": "7vqo5-3IgTb5"
      },
      "source": [
        "from sklearn.preprocessing import StandardScaler\n",
        "\n",
        "scaler = StandardScaler()\n",
        "\n",
        "train_scaling = scaler.fit_transform(train_num)\n",
        "test_scaling = scaler.transform(test_num)\n",
        "\n",
        "train_num_normalized = pd.DataFrame(train_scaling, columns=train_num.columns)\n",
        "test_num_normalized =  pd.DataFrame(test_scaling, columns=test_num.columns)\n"
      ],
      "execution_count": null,
      "outputs": []
    },
    {
      "cell_type": "code",
      "metadata": {
        "colab": {
          "base_uri": "https://localhost:8080/"
        },
        "id": "oLKyW4oxnfx1",
        "outputId": "d8872225-4880-4658-fa0e-df31ac38aa4f"
      },
      "source": [
        "from sklearn.ensemble import RandomForestRegressor \n",
        "from sklearn.model_selection import cross_val_score\n",
        "from sklearn.metrics import mean_squared_error\n",
        "\n",
        "train_concat = pd.concat([train_num,train_cat_1hot],axis = 1)\n",
        "test_concat = pd.concat([test_num,test_cat_1hot],axis = 1)\n",
        "\n",
        "train_concat_normalized = pd.concat([train_num_normalized,train_cat_1hot],axis = 1)\n",
        "test_concat_normalized = pd.concat([test_num_normalized,test_cat_1hot],axis = 1)\n",
        "\n",
        "\n",
        "def display_scores(scores):\n",
        "    print(\"Scores:\", scores)\n",
        "    print(\"Mean:\", scores.mean())\n",
        "    print(\"Standard deviation:\", scores.std())\n",
        "\n",
        "forest_reg = RandomForestRegressor()\n",
        "\n",
        "normalization = 0 \n",
        "addition_features = 0\n",
        "min_rmse = np.finfo('d').max\n",
        "for normalization in range(2):\n",
        "    for addition_features in range(2):\n",
        "\n",
        "        if normalization == 0 and addition_features == 0:\n",
        "            train_last = train_concat.drop([\"rooms_per_household\",\"bedrooms_per_room\",\"population_per_household\"], axis = 1)\n",
        "            test_last = test_concat.drop([\"rooms_per_household\",\"bedrooms_per_room\",\"population_per_household\"], axis = 1)\n",
        "            print( \"Not Normalized, Not Added Features \" )\n",
        "\n",
        "           \n",
        "        if normalization == 0 and addition_features == 1:\n",
        "            train_last = train_concat\n",
        "            test_last = test_concat     \n",
        "            print( \"Not Normalized, Added Features \" )\n",
        "\n",
        "        if normalization == 1 and addition_features == 0:\n",
        "            train_last = train_concat_normalized.drop([\"rooms_per_household\",\"bedrooms_per_room\",\"population_per_household\"], axis = 1)\n",
        "            test_last = test_concat_normalized.drop([\"rooms_per_household\",\"bedrooms_per_room\",\"population_per_household\"], axis = 1)\n",
        "            print( \"Normalized, Not Added Features \" )\n",
        "        \n",
        "        if normalization == 1 and addition_features == 1:\n",
        "            train_last = train_concat_normalized\n",
        "            test_last = test_concat_normalized\n",
        "            print( \"Normalized, Added Features \" )\n",
        "\n",
        "\n",
        "        \n",
        "        forest_reg.fit(train_last, train_labels)\n",
        "        housing_predictions = forest_reg.predict(train_last)\n",
        "        forest_rmse = mean_squared_error(train_labels, housing_predictions, squared=False)\n",
        "        print('Train Set forest_rmse :', forest_rmse)\n",
        "        scores = cross_val_score(forest_reg, train_last, train_labels, scoring=\"neg_mean_squared_error\", cv=10)\n",
        "        forest_rmse_scores = np.sqrt(-scores)\n",
        "        display_scores(forest_rmse_scores)\n",
        "\n",
        "        if forest_rmse < min_rmse:\n",
        "           best_combination = f\"Normalization : {normalization} ,  Addition Features : {addition_features}\"\n",
        "           min_rmse = forest_rmse\n",
        "        print('***********************')\n",
        "\n",
        "        forest_reg.fit(test_last, test_labels)\n",
        "        housing_predictions = forest_reg.predict(test_last)\n",
        "        forest_rmse = mean_squared_error(test_labels, housing_predictions, squared=False)\n",
        "        print('Test Set forest_rmse :', forest_rmse)\n",
        "        scores = cross_val_score(forest_reg, test_last, test_labels ,scoring=\"neg_mean_squared_error\", cv=10)\n",
        "        forest_rmse_scores = np.sqrt(-scores)\n",
        "        display_scores(forest_rmse_scores)\n",
        "\n",
        "        print(\"\\n\")\n",
        "\n",
        "print(\"Best Combination : \", best_combination)"
      ],
      "execution_count": null,
      "outputs": [
        {
          "output_type": "stream",
          "text": [
            "Not Normalized, Not Added Features \n",
            "Train Set forest_rmse : 18282.409781377282\n",
            "Scores: [47858.27747953 46234.39065588 49200.9646124  50053.19432666\n",
            " 49280.92970309 53169.34918717 48565.30365874 50107.16442955\n",
            " 51558.55987124 49253.71286522]\n",
            "Mean: 49528.18467894792\n",
            "Standard deviation: 1811.0689338327225\n",
            "***********************\n",
            "Test Set forest_rmse : 20035.551227570628\n",
            "Scores: [53801.4828659  58009.37197627 55531.14483723 52834.62157425\n",
            " 54611.97574775 51799.2808702  55051.44873498 50020.21607206\n",
            " 54264.2006595  50534.61948502]\n",
            "Mean: 53645.83628231684\n",
            "Standard deviation: 2297.89539267382\n",
            "\n",
            "\n",
            "Not Normalized, Added Features \n",
            "Train Set forest_rmse : 18664.37598190893\n",
            "Scores: [49326.53162497 47424.49072092 49752.80345785 52209.85725218\n",
            " 49996.20390506 53252.08061655 49191.05549853 47564.35101971\n",
            " 52622.06238828 50209.45139296]\n",
            "Mean: 50154.888787699216\n",
            "Standard deviation: 1894.0268873806688\n",
            "***********************\n",
            "Test Set forest_rmse : 20122.566368349566\n",
            "Scores: [53873.84539224 56595.03902319 59162.56105561 52422.15123228\n",
            " 56918.09134814 49864.25258597 54159.24251856 51299.50906436\n",
            " 57832.3383507  47318.40916771]\n",
            "Mean: 53944.54397387544\n",
            "Standard deviation: 3579.513636535972\n",
            "\n",
            "\n",
            "Normalized, Not Added Features \n",
            "Train Set forest_rmse : 18539.972578660254\n",
            "Scores: [47883.77042467 46537.98728976 49079.97897426 50265.53759547\n",
            " 49274.04625567 53118.47980862 48868.87659292 50347.52028697\n",
            " 51242.54771612 49628.0360682 ]\n",
            "Mean: 49624.67810126564\n",
            "Standard deviation: 1711.9188330080024\n",
            "***********************\n",
            "Test Set forest_rmse : 19853.703097893293\n",
            "Scores: [53195.43060433 58360.53340286 56701.57038384 52634.71933956\n",
            " 54683.44875675 51585.25926581 55162.24202314 49948.33089317\n",
            " 55281.06719825 49775.36699617]\n",
            "Mean: 53732.79688638732\n",
            "Standard deviation: 2677.006602956843\n",
            "\n",
            "\n",
            "Normalized, Added Features \n",
            "Train Set forest_rmse : 18730.37447709934\n",
            "Scores: [50117.75800863 47218.79014464 49857.46848416 52254.33284115\n",
            " 49479.6290395  53229.19604473 48943.61588793 48057.20305126\n",
            " 53039.84194742 50269.48967007]\n",
            "Mean: 50246.732511946684\n",
            "Standard deviation: 1927.296599670044\n",
            "***********************\n",
            "Test Set forest_rmse : 19970.080909398504\n",
            "Scores: [53176.42966145 56934.73143679 58622.23312923 52073.19710786\n",
            " 57339.09711869 49751.3938524  52448.40020965 51546.37371484\n",
            " 57668.10381619 47654.01529603]\n",
            "Mean: 53721.397534313925\n",
            "Standard deviation: 3534.7815625195567\n",
            "\n",
            "\n",
            "Best Combination :  Normalization : 0 ,  Addition Features : 0\n"
          ],
          "name": "stdout"
        }
      ]
    }
  ]
}
